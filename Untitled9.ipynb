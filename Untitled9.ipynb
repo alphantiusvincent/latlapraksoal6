{
  "nbformat": 4,
  "nbformat_minor": 0,
  "metadata": {
    "colab": {
      "provenance": []
    },
    "kernelspec": {
      "name": "python3",
      "display_name": "Python 3"
    },
    "language_info": {
      "name": "python"
    }
  },
  "cells": [
    {
      "cell_type": "code",
      "execution_count": null,
      "metadata": {
        "id": "504hqsw8ahxc"
      },
      "outputs": [],
      "source": [
        "#buat fungsi mencari bil prima terdekat\n",
        "def mencariprimaterdekat(angka):\n",
        "    if angka <= 1:\n",
        "        return False\n",
        "    for i in range(2, int(angka**0.5) + 1):\n",
        "        if angka % i == 0:\n",
        "            return False\n",
        "    return True\n",
        "def bilanganprimaterdekat(angka2):\n",
        "    for i in range(angka2-1, 1, -1):\n",
        "        if mencariprimaterdekat(i):\n",
        "            return i\n",
        "# Input\n",
        "angka2 = int(input(\"Masukkan bilangan: \"))\n",
        "# Cari bilangan prima terdekat yang kurang dari n\n",
        "bilanganprimaterdekat = bilanganprimaterdekat(angka2)\n",
        "#  hasil\n",
        "print(f\"Bilangan prima terdekat yang kurang dari {angka2} adalah {bilanganprimaterdekat}\""
      ]
    },
    {
      "cell_type": "code",
      "source": [
        "def faktorial(angka):\n",
        "    if angka == 0:\n",
        "        return 1\n",
        "    else:\n",
        "        return angka * faktorial(angka - 1)\n",
        "def tampilkanderet(angka2):\n",
        "    for i in range(angka2, 0, -1):\n",
        "        faktor = faktorial(i)\n",
        "        print(f\"{faktor}\", end=\" \")\n",
        "        for j in range(i, 0, -1):\n",
        "            print(j, end=\" \")\n",
        "        print()\n",
        "# Input\n",
        "angka2 = int(input(\"Masukkan nilai n: \"))\n",
        "# hasil\n",
        "tampilkanderet(angka2)"
      ],
      "metadata": {
        "id": "WQmgLVIXdAFh"
      },
      "execution_count": null,
      "outputs": []
    },
    {
      "cell_type": "code",
      "source": [
        "def tampilkanderet(tinggi, lebar):\n",
        "    angka = 1\n",
        "    for i in range(tinggi):\n",
        "        for j in range(lebar):\n",
        "            print(angka, end=\" \")\n",
        "            angka += 1\n",
        "        print()\n",
        "# Input dari pengguna\n",
        "tinggi = int(input(\"Masukkan tinggi: \"))\n",
        "lebar = int(input(\"Masukkan lebar: \"))\n",
        "# hasil\n",
        "tampilkanderet(tinggi, lebar)"
      ],
      "metadata": {
        "id": "uvNd_vwrdAI9"
      },
      "execution_count": null,
      "outputs": []
    },
    {
      "cell_type": "code",
      "source": [],
      "metadata": {
        "id": "9JMDP2YodANG"
      },
      "execution_count": null,
      "outputs": []
    },
    {
      "cell_type": "code",
      "source": [],
      "metadata": {
        "id": "_z-JygxbdATq"
      },
      "execution_count": null,
      "outputs": []
    }
  ]
}